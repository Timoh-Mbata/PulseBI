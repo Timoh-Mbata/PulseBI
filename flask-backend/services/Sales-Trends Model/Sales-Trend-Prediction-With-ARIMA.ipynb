{
 "cells": [
  {
   "cell_type": "markdown",
   "id": "15494004-caa0-41f4-b3e8-f36af67e6aab",
   "metadata": {
    "jp-MarkdownHeadingCollapsed": true
   },
   "source": [
    "## Pre-Requisites :\n",
    "* Using ARIMA to predict sales Trend for the next 1 week basing on the seed data in our sales Table in the PostgreSQL database\n",
    "\n",
    "* We used the amount and the date columns\n"
   ]
  },
  {
   "cell_type": "code",
   "execution_count": 19,
   "id": "58eb70fc-301e-4d06-a20b-af13920baa8e",
   "metadata": {},
   "outputs": [],
   "source": [
    "import pandas as pd\n",
    "import matplotlib.pyplot as plt\n",
    "from statsmodels.tsa.arima.model import ARIMA\n",
    "from sqlalchemy import create_engine ,inspect\n",
    "%matplotlib inline"
   ]
  },
  {
   "cell_type": "code",
   "execution_count": 2,
   "id": "54df1c25-153e-4a0c-aa23-fd5cf4959760",
   "metadata": {},
   "outputs": [],
   "source": [
    "def Connect_to_db():\n",
    "    username = 'postgres'\n",
    "    password = 'newpassword'      \n",
    "    host = 'localhost'              \n",
    "    port = '5432'                   \n",
    "    database = 'pulsebi'\n",
    "    engine = create_engine(f'postgresql+psycopg2://{username}:{password}@{host}:{port}/{database}')\n",
    "    print(\"Connected to db\")\n",
    "    return engine"
   ]
  },
  {
   "cell_type": "code",
   "execution_count": 3,
   "id": "cdb8e28a-8513-49e9-81cb-230290f47ded",
   "metadata": {},
   "outputs": [
    {
     "name": "stdout",
     "output_type": "stream",
     "text": [
      "Connected to db\n"
     ]
    }
   ],
   "source": [
    "inspector = inspect(Connect_to_db())"
   ]
  },
  {
   "cell_type": "code",
   "execution_count": 5,
   "id": "4e250290-af08-49c4-8937-8b4d3ea94f5e",
   "metadata": {},
   "outputs": [
    {
     "name": "stdout",
     "output_type": "stream",
     "text": [
      "['alembic_version', 'predictions', 'users', 'metrics', 'alerts', 'live_data', 'data_sources', 'customers', 'products', 'sales', 'features']\n"
     ]
    }
   ],
   "source": [
    "TableList = inspector.get_table_names()\n",
    "\n",
    "print(TableList)"
   ]
  },
  {
   "cell_type": "code",
   "execution_count": 7,
   "id": "d49b428c-51d8-4573-8c1f-fa669a7d45e6",
   "metadata": {},
   "outputs": [
    {
     "name": "stdout",
     "output_type": "stream",
     "text": [
      "Connected to db\n"
     ]
    }
   ],
   "source": [
    "sales_table = pd.read_sql('SELECT * FROM sales',con=Connect_to_db())"
   ]
  },
  {
   "cell_type": "code",
   "execution_count": 8,
   "id": "6cd28bdb-e62a-4b0d-8f75-291a4879c914",
   "metadata": {
    "collapsed": true,
    "jupyter": {
     "outputs_hidden": true
    },
    "scrolled": true
   },
   "outputs": [
    {
     "data": {
      "text/html": [
       "<div>\n",
       "<style scoped>\n",
       "    .dataframe tbody tr th:only-of-type {\n",
       "        vertical-align: middle;\n",
       "    }\n",
       "\n",
       "    .dataframe tbody tr th {\n",
       "        vertical-align: top;\n",
       "    }\n",
       "\n",
       "    .dataframe thead th {\n",
       "        text-align: right;\n",
       "    }\n",
       "</style>\n",
       "<table border=\"1\" class=\"dataframe\">\n",
       "  <thead>\n",
       "    <tr style=\"text-align: right;\">\n",
       "      <th></th>\n",
       "      <th>id</th>\n",
       "      <th>customerid</th>\n",
       "      <th>productid</th>\n",
       "      <th>quantity</th>\n",
       "      <th>amount</th>\n",
       "      <th>date</th>\n",
       "      <th>status</th>\n",
       "    </tr>\n",
       "  </thead>\n",
       "  <tbody>\n",
       "    <tr>\n",
       "      <th>0</th>\n",
       "      <td>1</td>\n",
       "      <td>1</td>\n",
       "      <td>1</td>\n",
       "      <td>1</td>\n",
       "      <td>1200.0</td>\n",
       "      <td>2024-10-01</td>\n",
       "      <td>Completed</td>\n",
       "    </tr>\n",
       "    <tr>\n",
       "      <th>1</th>\n",
       "      <td>2</td>\n",
       "      <td>2</td>\n",
       "      <td>2</td>\n",
       "      <td>2</td>\n",
       "      <td>2200.0</td>\n",
       "      <td>2024-10-02</td>\n",
       "      <td>Completed</td>\n",
       "    </tr>\n",
       "    <tr>\n",
       "      <th>2</th>\n",
       "      <td>3</td>\n",
       "      <td>3</td>\n",
       "      <td>3</td>\n",
       "      <td>1</td>\n",
       "      <td>1500.0</td>\n",
       "      <td>2024-10-03</td>\n",
       "      <td>Pending</td>\n",
       "    </tr>\n",
       "    <tr>\n",
       "      <th>3</th>\n",
       "      <td>4</td>\n",
       "      <td>4</td>\n",
       "      <td>4</td>\n",
       "      <td>1</td>\n",
       "      <td>1300.0</td>\n",
       "      <td>2024-10-04</td>\n",
       "      <td>Completed</td>\n",
       "    </tr>\n",
       "    <tr>\n",
       "      <th>4</th>\n",
       "      <td>5</td>\n",
       "      <td>5</td>\n",
       "      <td>5</td>\n",
       "      <td>3</td>\n",
       "      <td>900.0</td>\n",
       "      <td>2024-10-05</td>\n",
       "      <td>Completed</td>\n",
       "    </tr>\n",
       "    <tr>\n",
       "      <th>5</th>\n",
       "      <td>6</td>\n",
       "      <td>6</td>\n",
       "      <td>6</td>\n",
       "      <td>2</td>\n",
       "      <td>640.0</td>\n",
       "      <td>2024-10-06</td>\n",
       "      <td>Pending</td>\n",
       "    </tr>\n",
       "    <tr>\n",
       "      <th>6</th>\n",
       "      <td>7</td>\n",
       "      <td>7</td>\n",
       "      <td>7</td>\n",
       "      <td>4</td>\n",
       "      <td>600.0</td>\n",
       "      <td>2024-10-07</td>\n",
       "      <td>Completed</td>\n",
       "    </tr>\n",
       "    <tr>\n",
       "      <th>7</th>\n",
       "      <td>8</td>\n",
       "      <td>8</td>\n",
       "      <td>8</td>\n",
       "      <td>2</td>\n",
       "      <td>400.0</td>\n",
       "      <td>2024-10-08</td>\n",
       "      <td>Completed</td>\n",
       "    </tr>\n",
       "    <tr>\n",
       "      <th>8</th>\n",
       "      <td>9</td>\n",
       "      <td>9</td>\n",
       "      <td>9</td>\n",
       "      <td>2</td>\n",
       "      <td>800.0</td>\n",
       "      <td>2024-10-09</td>\n",
       "      <td>Completed</td>\n",
       "    </tr>\n",
       "    <tr>\n",
       "      <th>9</th>\n",
       "      <td>10</td>\n",
       "      <td>10</td>\n",
       "      <td>10</td>\n",
       "      <td>1</td>\n",
       "      <td>500.0</td>\n",
       "      <td>2024-10-10</td>\n",
       "      <td>Completed</td>\n",
       "    </tr>\n",
       "  </tbody>\n",
       "</table>\n",
       "</div>"
      ],
      "text/plain": [
       "   id  customerid  productid  quantity  amount        date     status\n",
       "0   1           1          1         1  1200.0  2024-10-01  Completed\n",
       "1   2           2          2         2  2200.0  2024-10-02  Completed\n",
       "2   3           3          3         1  1500.0  2024-10-03    Pending\n",
       "3   4           4          4         1  1300.0  2024-10-04  Completed\n",
       "4   5           5          5         3   900.0  2024-10-05  Completed\n",
       "5   6           6          6         2   640.0  2024-10-06    Pending\n",
       "6   7           7          7         4   600.0  2024-10-07  Completed\n",
       "7   8           8          8         2   400.0  2024-10-08  Completed\n",
       "8   9           9          9         2   800.0  2024-10-09  Completed\n",
       "9  10          10         10         1   500.0  2024-10-10  Completed"
      ]
     },
     "execution_count": 8,
     "metadata": {},
     "output_type": "execute_result"
    }
   ],
   "source": [
    "sales_table"
   ]
  },
  {
   "cell_type": "code",
   "execution_count": 10,
   "id": "2dae19f9-2909-4b73-87f0-221af014b1e2",
   "metadata": {},
   "outputs": [
    {
     "name": "stdout",
     "output_type": "stream",
     "text": [
      "<class 'pandas.core.frame.DataFrame'>\n",
      "RangeIndex: 10 entries, 0 to 9\n",
      "Data columns (total 7 columns):\n",
      " #   Column      Non-Null Count  Dtype  \n",
      "---  ------      --------------  -----  \n",
      " 0   id          10 non-null     int64  \n",
      " 1   customerid  10 non-null     int64  \n",
      " 2   productid   10 non-null     int64  \n",
      " 3   quantity    10 non-null     int64  \n",
      " 4   amount      10 non-null     float64\n",
      " 5   date        10 non-null     object \n",
      " 6   status      10 non-null     object \n",
      "dtypes: float64(1), int64(4), object(2)\n",
      "memory usage: 688.0+ bytes\n"
     ]
    }
   ],
   "source": [
    "sales_table.info()"
   ]
  },
  {
   "cell_type": "markdown",
   "id": "fe865541-a557-4af4-9fd3-f2dae636d967",
   "metadata": {
    "jp-MarkdownHeadingCollapsed": true
   },
   "source": [
    "## Feature Engineering"
   ]
  },
  {
   "cell_type": "code",
   "execution_count": 11,
   "id": "c8c84700-f86b-4074-86c7-d008d542899d",
   "metadata": {},
   "outputs": [],
   "source": [
    "sales_table['date'] = pd.to_datetime(sales_table['date'])"
   ]
  },
  {
   "cell_type": "raw",
   "id": "90867ed1-c51d-4987-bd8e-b248a82a4322",
   "metadata": {},
   "source": [
    "we have done feature engineering on the date column"
   ]
  },
  {
   "cell_type": "code",
   "execution_count": 12,
   "id": "074c0d08-68f4-4294-b2f5-0239d79ec3ad",
   "metadata": {},
   "outputs": [],
   "source": [
    "salesDf = sales_table[['date','amount']]"
   ]
  },
  {
   "cell_type": "code",
   "execution_count": 13,
   "id": "cc5c1596-3c6c-4cb6-a95a-de0260229f68",
   "metadata": {},
   "outputs": [],
   "source": [
    "salesDf.set_index('date', inplace=True)"
   ]
  },
  {
   "cell_type": "code",
   "execution_count": 15,
   "id": "e52581c5-38ea-4a28-9753-d00c1aef6749",
   "metadata": {},
   "outputs": [
    {
     "name": "stdout",
     "output_type": "stream",
     "text": [
      "            amount\n",
      "date              \n",
      "2024-10-01  1200.0\n",
      "2024-10-02  2200.0\n",
      "2024-10-03  1500.0\n",
      "2024-10-04  1300.0\n",
      "2024-10-05   900.0\n",
      "2024-10-06   640.0\n",
      "2024-10-07   600.0\n",
      "2024-10-08   400.0\n",
      "2024-10-09   800.0\n",
      "2024-10-10   500.0\n"
     ]
    }
   ],
   "source": [
    "print(salesDf)"
   ]
  },
  {
   "cell_type": "markdown",
   "id": "57fcd05c-a3c0-4347-a6fe-b2bf39d2842c",
   "metadata": {},
   "source": [
    "## Model Building"
   ]
  },
  {
   "cell_type": "code",
   "execution_count": 17,
   "id": "ef602759-fdef-4fa0-9ce4-857ff7fcd120",
   "metadata": {
    "collapsed": true,
    "jupyter": {
     "outputs_hidden": true
    }
   },
   "outputs": [
    {
     "data": {
      "image/png": "[encoded data removed]",
      "text/plain": [
       "<Figure size 1000x600 with 1 Axes>"
      ]
     },
     "metadata": {},
     "output_type": "display_data"
    }
   ],
   "source": [
    "salesDf['amount'].plot(figsize=(10,6))\n",
    "plt.title('Sales over Time')\n",
    "plt.show()"
   ]
  },
  {
   "cell_type": "code",
   "execution_count": 22,
   "id": "721e4c9c-2dbb-4d5e-a670-01e915b59ce3",
   "metadata": {},
   "outputs": [
    {
     "name": "stderr",
     "output_type": "stream",
     "text": [
      "C:\\Users\\Admin\\anaconda3\\envs\\DeepLearning_Tensorflow\\lib\\site-packages\\statsmodels\\tsa\\base\\tsa_model.py:473: ValueWarning: No frequency information was provided, so inferred frequency D will be used.\n",
      "  self._init_dates(dates, freq)\n"
     ]
    }
   ],
   "source": [
    "model = ARIMA(salesDf['amount'], order=(2, 1, 0))\n",
    "model_fit = model.fit()"
   ]
  },
  {
   "cell_type": "code",
   "execution_count": 30,
   "id": "a86f2643-d226-432d-866a-2705d5036ec2",
   "metadata": {},
   "outputs": [
    {
     "data": {
      "text/plain": [
       "1"
      ]
     },
     "execution_count": 30,
     "metadata": {},
     "output_type": "execute_result"
    }
   ],
   "source": [
    "salesDf['amount'].ndim"
   ]
  },
  {
   "cell_type": "code",
   "execution_count": 23,
   "id": "d0c7b5b4-d53d-4be0-ab52-08bd2ec22605",
   "metadata": {},
   "outputs": [
    {
     "name": "stdout",
     "output_type": "stream",
     "text": [
      "Sales forecast for next 7 days:\n",
      "2024-10-11    640.603527\n",
      "2024-10-12    557.738360\n",
      "2024-10-13    601.116533\n",
      "2024-10-14    577.012399\n",
      "2024-10-15    590.004178\n",
      "2024-10-16    582.892642\n",
      "2024-10-17    586.754871\n",
      "Freq: D, Name: predicted_mean, dtype: float64\n"
     ]
    }
   ],
   "source": [
    "forecast = model_fit.forecast(steps=7)\n",
    "print(\"Sales forecast for next 7 days:\")\n",
    "print(forecast)"
   ]
  },
  {
   "cell_type": "markdown",
   "id": "e5e09d8e-d375-40cb-abda-dae724f87d27",
   "metadata": {
    "jp-MarkdownHeadingCollapsed": true
   },
   "source": [
    "## Save the Model "
   ]
  },
  {
   "cell_type": "code",
   "execution_count": 27,
   "id": "fe3a0dc3-8be6-42be-a1c6-52cd676d3c8a",
   "metadata": {},
   "outputs": [],
   "source": [
    "import joblib"
   ]
  },
  {
   "cell_type": "code",
   "execution_count": 28,
   "id": "f74aa4fe-37f2-4b0b-bb21-16cef3eb4d55",
   "metadata": {},
   "outputs": [
    {
     "data": {
      "text/plain": [
       "['Sales-Trend-Predictor-Model.pkl']"
      ]
     },
     "execution_count": 28,
     "metadata": {},
     "output_type": "execute_result"
    }
   ],
   "source": [
    "joblib.dump(model_fit, 'Sales-Trend-Predictor-Model.pkl')\n"
   ]
  }
 ],
 "metadata": {
  "kernelspec": {
   "display_name": "Python 3 (ipykernel)",
   "language": "python",
   "name": "python3"
  },
  "language_info": {
   "codemirror_mode": {
    "name": "ipython",
    "version": 3
   },
   "file_extension": ".py",
   "mimetype": "text/x-python",
   "name": "python",
   "nbconvert_exporter": "python",
   "pygments_lexer": "ipython3",
   "version": "3.10.8"
  }
 },
 "nbformat": 4,
 "nbformat_minor": 5
}
